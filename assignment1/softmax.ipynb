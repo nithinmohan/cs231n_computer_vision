{
 "cells": [
  {
   "cell_type": "markdown",
   "metadata": {},
   "source": [
    "# Softmax exercise\n",
    "\n",
    "*Complete and hand in this completed worksheet (including its outputs and any supporting code outside of the worksheet) with your assignment submission. For more details see the [assignments page](http://vision.stanford.edu/teaching/cs231n/assignments.html) on the course website.*\n",
    "\n",
    "This exercise is analogous to the SVM exercise. You will:\n",
    "\n",
    "- implement a fully-vectorized **loss function** for the Softmax classifier\n",
    "- implement the fully-vectorized expression for its **analytic gradient**\n",
    "- **check your implementation** with numerical gradient\n",
    "- use a validation set to **tune the learning rate and regularization** strength\n",
    "- **optimize** the loss function with **SGD**\n",
    "- **visualize** the final learned weights\n"
   ]
  },
  {
   "cell_type": "code",
   "execution_count": 1,
   "metadata": {
    "collapsed": false
   },
   "outputs": [],
   "source": [
    "import random\n",
    "import numpy as np\n",
    "from cs231n.data_utils import load_CIFAR10\n",
    "import matplotlib.pyplot as plt\n",
    "\n",
    "from __future__ import print_function\n",
    "\n",
    "%matplotlib inline\n",
    "plt.rcParams['figure.figsize'] = (10.0, 8.0) # set default size of plots\n",
    "plt.rcParams['image.interpolation'] = 'nearest'\n",
    "plt.rcParams['image.cmap'] = 'gray'\n",
    "\n",
    "# for auto-reloading extenrnal modules\n",
    "# see http://stackoverflow.com/questions/1907993/autoreload-of-modules-in-ipython\n",
    "%load_ext autoreload\n",
    "%autoreload 2"
   ]
  },
  {
   "cell_type": "code",
   "execution_count": 2,
   "metadata": {
    "collapsed": false
   },
   "outputs": [
    {
     "name": "stdout",
     "output_type": "stream",
     "text": [
      "Train data shape:  (49000, 3073)\n",
      "Train labels shape:  (49000,)\n",
      "Validation data shape:  (1000, 3073)\n",
      "Validation labels shape:  (1000,)\n",
      "Test data shape:  (1000, 3073)\n",
      "Test labels shape:  (1000,)\n",
      "dev data shape:  (500, 3073)\n",
      "dev labels shape:  (500,)\n"
     ]
    }
   ],
   "source": [
    "def get_CIFAR10_data(num_training=49000, num_validation=1000, num_test=1000, num_dev=500):\n",
    "    \"\"\"\n",
    "    Load the CIFAR-10 dataset from disk and perform preprocessing to prepare\n",
    "    it for the linear classifier. These are the same steps as we used for the\n",
    "    SVM, but condensed to a single function.  \n",
    "    \"\"\"\n",
    "    # Load the raw CIFAR-10 data\n",
    "    cifar10_dir = 'cs231n/datasets/cifar-10-batches-py'\n",
    "    X_train, y_train, X_test, y_test = load_CIFAR10(cifar10_dir)\n",
    "    \n",
    "    # subsample the data\n",
    "    mask = list(range(num_training, num_training + num_validation))\n",
    "    X_val = X_train[mask]\n",
    "    y_val = y_train[mask]\n",
    "    mask = list(range(num_training))\n",
    "    X_train = X_train[mask]\n",
    "    y_train = y_train[mask]\n",
    "    mask = list(range(num_test))\n",
    "    X_test = X_test[mask]\n",
    "    y_test = y_test[mask]\n",
    "    mask = np.random.choice(num_training, num_dev, replace=False)\n",
    "    X_dev = X_train[mask]\n",
    "    y_dev = y_train[mask]\n",
    "    \n",
    "    # Preprocessing: reshape the image data into rows\n",
    "    X_train = np.reshape(X_train, (X_train.shape[0], -1))\n",
    "    X_val = np.reshape(X_val, (X_val.shape[0], -1))\n",
    "    X_test = np.reshape(X_test, (X_test.shape[0], -1))\n",
    "    X_dev = np.reshape(X_dev, (X_dev.shape[0], -1))\n",
    "    \n",
    "    # Normalize the data: subtract the mean image\n",
    "    mean_image = np.mean(X_train, axis = 0)\n",
    "    X_train -= mean_image\n",
    "    X_val -= mean_image\n",
    "    X_test -= mean_image\n",
    "    X_dev -= mean_image\n",
    "    \n",
    "    # add bias dimension and transform into columns\n",
    "    X_train = np.hstack([X_train, np.ones((X_train.shape[0], 1))])\n",
    "    X_val = np.hstack([X_val, np.ones((X_val.shape[0], 1))])\n",
    "    X_test = np.hstack([X_test, np.ones((X_test.shape[0], 1))])\n",
    "    X_dev = np.hstack([X_dev, np.ones((X_dev.shape[0], 1))])\n",
    "    \n",
    "    return X_train, y_train, X_val, y_val, X_test, y_test, X_dev, y_dev\n",
    "\n",
    "\n",
    "# Invoke the above function to get our data.\n",
    "X_train, y_train, X_val, y_val, X_test, y_test, X_dev, y_dev = get_CIFAR10_data()\n",
    "print('Train data shape: ', X_train.shape)\n",
    "print('Train labels shape: ', y_train.shape)\n",
    "print('Validation data shape: ', X_val.shape)\n",
    "print('Validation labels shape: ', y_val.shape)\n",
    "print('Test data shape: ', X_test.shape)\n",
    "print('Test labels shape: ', y_test.shape)\n",
    "print('dev data shape: ', X_dev.shape)\n",
    "print('dev labels shape: ', y_dev.shape)"
   ]
  },
  {
   "cell_type": "markdown",
   "metadata": {},
   "source": [
    "## Softmax Classifier\n",
    "\n",
    "Your code for this section will all be written inside **cs231n/classifiers/softmax.py**. \n"
   ]
  },
  {
   "cell_type": "code",
   "execution_count": 3,
   "metadata": {
    "collapsed": false
   },
   "outputs": [
    {
     "name": "stdout",
     "output_type": "stream",
     "text": [
      "loss: 2.402517\n",
      "sanity check: 2.302585\n"
     ]
    }
   ],
   "source": [
    "# First implement the naive softmax loss function with nested loops.\n",
    "# Open the file cs231n/classifiers/softmax.py and implement the\n",
    "# softmax_loss_naive function.\n",
    "\n",
    "from cs231n.classifiers.softmax import softmax_loss_naive\n",
    "import time\n",
    "\n",
    "# Generate a random softmax weight matrix and use it to compute the loss.\n",
    "W = np.random.randn(3073, 10) * 0.0001\n",
    "loss, grad = softmax_loss_naive(W, X_dev, y_dev, 0.0)\n",
    "\n",
    "# As a rough sanity check, our loss should be something close to -log(0.1).\n",
    "print('loss: %f' % loss)\n",
    "print('sanity check: %f' % (-np.log(0.1)))"
   ]
  },
  {
   "cell_type": "markdown",
   "metadata": {},
   "source": [
    "## Inline Question 1:\n",
    "Why do we expect our loss to be close to -log(0.1)? Explain briefly.**\n",
    "\n",
    "**Your answer:** *Fill this in*\n"
   ]
  },
  {
   "cell_type": "code",
   "execution_count": 21,
   "metadata": {
    "collapsed": false
   },
   "outputs": [
    {
     "name": "stdout",
     "output_type": "stream",
     "text": [
      "numerical: -1.720489 analytic: -1.720489, relative error: 1.103107e-08\n",
      "numerical: -0.890445 analytic: -0.890445, relative error: 1.734568e-08\n",
      "numerical: -0.915433 analytic: -0.915433, relative error: 3.003536e-08\n",
      "numerical: -1.046759 analytic: -1.046759, relative error: 8.712837e-09\n",
      "numerical: 0.039570 analytic: 0.039569, relative error: 2.685596e-06\n",
      "numerical: -2.591556 analytic: -2.591556, relative error: 1.866654e-08\n",
      "numerical: -0.201022 analytic: -0.201022, relative error: 1.924149e-07\n",
      "numerical: 2.374526 analytic: 2.374525, relative error: 1.459228e-08\n",
      "numerical: -1.732372 analytic: -1.732372, relative error: 4.415226e-09\n",
      "numerical: 3.022729 analytic: 3.022729, relative error: 1.474998e-08\n",
      "numerical: -1.337829 analytic: -1.325745, relative error: 4.536726e-03\n",
      "numerical: -1.118925 analytic: -1.121102, relative error: 9.717499e-04\n",
      "numerical: 1.619609 analytic: 1.625810, relative error: 1.910676e-03\n",
      "numerical: -3.839955 analytic: -3.830704, relative error: 1.206093e-03\n",
      "numerical: -1.679787 analytic: -1.670842, relative error: 2.669876e-03\n",
      "numerical: -1.600850 analytic: -1.602542, relative error: 5.279973e-04\n",
      "numerical: 1.237373 analytic: 1.232395, relative error: 2.015553e-03\n",
      "numerical: -0.138785 analytic: -0.132349, relative error: 2.373778e-02\n",
      "numerical: -1.185723 analytic: -1.161582, relative error: 1.028479e-02\n",
      "numerical: 2.316566 analytic: 2.330271, relative error: 2.949473e-03\n"
     ]
    }
   ],
   "source": [
    "# Complete the implementation of softmax_loss_naive and implement a (naive)\n",
    "# version of the gradient that uses nested loops.\n",
    "loss, grad = softmax_loss_naive(W, X_dev, y_dev, 0.0)\n",
    "\n",
    "# As we did for the SVM, use numeric gradient checking as a debugging tool.\n",
    "# The numeric gradient should be close to the analytic gradient.\n",
    "from cs231n.gradient_check import grad_check_sparse\n",
    "f = lambda w: softmax_loss_naive(w, X_dev, y_dev, 0.0)[0]\n",
    "grad_numerical = grad_check_sparse(f, W, grad, 10)\n",
    "\n",
    "# similar to SVM case, do another gradient check with regularization\n",
    "loss, grad = softmax_loss_naive(W, X_dev, y_dev, 5e1)\n",
    "f = lambda w: softmax_loss_naive(w, X_dev, y_dev, 5e1)[0]\n",
    "grad_numerical = grad_check_sparse(f, W, grad, 10)"
   ]
  },
  {
   "cell_type": "code",
   "execution_count": 22,
   "metadata": {
    "collapsed": false
   },
   "outputs": [
    {
     "name": "stdout",
     "output_type": "stream",
     "text": [
      "naive loss: 2.402517e+00 computed in 0.005003s\n",
      "vectorized loss: 2.402517e+00 computed in 0.006004s\n",
      "Loss difference: 0.000000\n",
      "Gradient difference: 0.000000\n"
     ]
    }
   ],
   "source": [
    "# Now that we have a naive implementation of the softmax loss function and its gradient,\n",
    "# implement a vectorized version in softmax_loss_vectorized.\n",
    "# The two versions should compute the same results, but the vectorized version should be\n",
    "# much faster.\n",
    "tic = time.time()\n",
    "loss_naive, grad_naive = softmax_loss_naive(W, X_dev, y_dev, 0.000005)\n",
    "toc = time.time()\n",
    "print('naive loss: %e computed in %fs' % (loss_naive, toc - tic))\n",
    "\n",
    "from cs231n.classifiers.softmax import softmax_loss_vectorized\n",
    "tic = time.time()\n",
    "loss_vectorized, grad_vectorized = softmax_loss_vectorized(W, X_dev, y_dev, 0.000005)\n",
    "toc = time.time()\n",
    "print('vectorized loss: %e computed in %fs' % (loss_vectorized, toc - tic))\n",
    "\n",
    "# As we did for the SVM, we use the Frobenius norm to compare the two versions\n",
    "# of the gradient.\n",
    "grad_difference = np.linalg.norm(grad_naive - grad_vectorized, ord='fro')\n",
    "print('Loss difference: %f' % np.abs(loss_naive - loss_vectorized))\n",
    "print('Gradient difference: %f' % grad_difference)"
   ]
  },
  {
   "cell_type": "code",
   "execution_count": 26,
   "metadata": {
    "collapsed": false
   },
   "outputs": [
    {
     "name": "stdout",
     "output_type": "stream",
     "text": [
      "0\n",
      "1\n",
      "2\n",
      "3\n",
      "4\n",
      "5\n",
      "6\n",
      "7\n",
      "8\n",
      "9\n",
      "10\n",
      "11\n",
      "12\n",
      "13\n",
      "14\n",
      "15\n",
      "16\n",
      "17\n",
      "18\n",
      "19\n",
      "20\n",
      "21\n",
      "22\n",
      "23\n",
      "24\n",
      "25\n",
      "26\n",
      "27\n",
      "28\n",
      "29\n",
      "30\n",
      "31\n",
      "32\n",
      "33\n",
      "34\n",
      "35\n",
      "36\n",
      "37\n",
      "38\n",
      "39\n",
      "40\n",
      "41\n",
      "42\n",
      "43\n",
      "44\n",
      "45\n",
      "46\n",
      "47\n",
      "48\n",
      "lr 2.500000e-02 reg 2.500000e-02 train accuracy: 0.325796 val accuracy: 0.339000\n",
      "lr 2.500000e-02 reg 2.500000e+00 train accuracy: 0.332347 val accuracy: 0.338000\n",
      "lr 2.500000e-02 reg 2.500000e+02 train accuracy: 0.329286 val accuracy: 0.345000\n",
      "lr 2.500000e-02 reg 2.500000e+04 train accuracy: 0.333286 val accuracy: 0.357000\n",
      "lr 2.500000e-02 reg 2.500000e+06 train accuracy: 0.322490 val accuracy: 0.336000\n",
      "lr 2.500000e-02 reg 2.500000e+08 train accuracy: 0.332388 val accuracy: 0.347000\n",
      "lr 2.500000e-02 reg 2.500000e+10 train accuracy: 0.326857 val accuracy: 0.346000\n",
      "lr 2.500000e+00 reg 2.500000e-02 train accuracy: 0.333122 val accuracy: 0.339000\n",
      "lr 2.500000e+00 reg 2.500000e+00 train accuracy: 0.325469 val accuracy: 0.343000\n",
      "lr 2.500000e+00 reg 2.500000e+02 train accuracy: 0.330612 val accuracy: 0.348000\n",
      "lr 2.500000e+00 reg 2.500000e+04 train accuracy: 0.329959 val accuracy: 0.351000\n",
      "lr 2.500000e+00 reg 2.500000e+06 train accuracy: 0.332347 val accuracy: 0.345000\n",
      "lr 2.500000e+00 reg 2.500000e+08 train accuracy: 0.329122 val accuracy: 0.339000\n",
      "lr 2.500000e+00 reg 2.500000e+10 train accuracy: 0.329388 val accuracy: 0.346000\n",
      "lr 2.500000e+02 reg 2.500000e-02 train accuracy: 0.330122 val accuracy: 0.354000\n",
      "lr 2.500000e+02 reg 2.500000e+00 train accuracy: 0.327653 val accuracy: 0.343000\n",
      "lr 2.500000e+02 reg 2.500000e+02 train accuracy: 0.327510 val accuracy: 0.344000\n",
      "lr 2.500000e+02 reg 2.500000e+04 train accuracy: 0.329571 val accuracy: 0.347000\n",
      "lr 2.500000e+02 reg 2.500000e+06 train accuracy: 0.327694 val accuracy: 0.344000\n",
      "lr 2.500000e+02 reg 2.500000e+08 train accuracy: 0.332020 val accuracy: 0.337000\n",
      "lr 2.500000e+02 reg 2.500000e+10 train accuracy: 0.329429 val accuracy: 0.338000\n",
      "lr 2.500000e+04 reg 2.500000e-02 train accuracy: 0.331388 val accuracy: 0.337000\n",
      "lr 2.500000e+04 reg 2.500000e+00 train accuracy: 0.324939 val accuracy: 0.339000\n",
      "lr 2.500000e+04 reg 2.500000e+02 train accuracy: 0.333388 val accuracy: 0.347000\n",
      "lr 2.500000e+04 reg 2.500000e+04 train accuracy: 0.328286 val accuracy: 0.344000\n",
      "lr 2.500000e+04 reg 2.500000e+06 train accuracy: 0.325531 val accuracy: 0.342000\n",
      "lr 2.500000e+04 reg 2.500000e+08 train accuracy: 0.327980 val accuracy: 0.344000\n",
      "lr 2.500000e+04 reg 2.500000e+10 train accuracy: 0.323571 val accuracy: 0.335000\n",
      "lr 2.500000e+06 reg 2.500000e-02 train accuracy: 0.330816 val accuracy: 0.354000\n",
      "lr 2.500000e+06 reg 2.500000e+00 train accuracy: 0.328143 val accuracy: 0.348000\n",
      "lr 2.500000e+06 reg 2.500000e+02 train accuracy: 0.332408 val accuracy: 0.332000\n",
      "lr 2.500000e+06 reg 2.500000e+04 train accuracy: 0.333327 val accuracy: 0.348000\n",
      "lr 2.500000e+06 reg 2.500000e+06 train accuracy: 0.328143 val accuracy: 0.345000\n",
      "lr 2.500000e+06 reg 2.500000e+08 train accuracy: 0.331000 val accuracy: 0.344000\n",
      "lr 2.500000e+06 reg 2.500000e+10 train accuracy: 0.330429 val accuracy: 0.345000\n",
      "lr 2.500000e+08 reg 2.500000e-02 train accuracy: 0.327878 val accuracy: 0.347000\n",
      "lr 2.500000e+08 reg 2.500000e+00 train accuracy: 0.331082 val accuracy: 0.340000\n",
      "lr 2.500000e+08 reg 2.500000e+02 train accuracy: 0.332469 val accuracy: 0.339000\n",
      "lr 2.500000e+08 reg 2.500000e+04 train accuracy: 0.332816 val accuracy: 0.345000\n",
      "lr 2.500000e+08 reg 2.500000e+06 train accuracy: 0.327286 val accuracy: 0.343000\n",
      "lr 2.500000e+08 reg 2.500000e+08 train accuracy: 0.331490 val accuracy: 0.348000\n",
      "lr 2.500000e+08 reg 2.500000e+10 train accuracy: 0.333571 val accuracy: 0.348000\n",
      "lr 2.500000e+10 reg 2.500000e-02 train accuracy: 0.327143 val accuracy: 0.339000\n",
      "lr 2.500000e+10 reg 2.500000e+00 train accuracy: 0.332469 val accuracy: 0.345000\n",
      "lr 2.500000e+10 reg 2.500000e+02 train accuracy: 0.331796 val accuracy: 0.341000\n",
      "lr 2.500000e+10 reg 2.500000e+04 train accuracy: 0.325388 val accuracy: 0.346000\n",
      "lr 2.500000e+10 reg 2.500000e+06 train accuracy: 0.326592 val accuracy: 0.350000\n",
      "lr 2.500000e+10 reg 2.500000e+08 train accuracy: 0.328551 val accuracy: 0.356000\n",
      "lr 2.500000e+10 reg 2.500000e+10 train accuracy: 0.329510 val accuracy: 0.342000\n",
      "best validation accuracy achieved during cross-validation: 0.357000\n"
     ]
    }
   ],
   "source": [
    "# Use the validation set to tune hyperparameters (regularization strength and\n",
    "# learning rate). You should experiment with different ranges for the learning\n",
    "# rates and regularization strengths; if you are careful you should be able to\n",
    "# get a classification accuracy of over 0.35 on the validation set.\n",
    "\n",
    "from cs231n.classifiers import Softmax\n",
    "results = {}\n",
    "best_val = -1\n",
    "best_softmax = None\n",
    "learning_rates = [1e-7, 5e-7]\n",
    "regularization_strengths = [2.5e4, 5e4]\n",
    "\n",
    "learning_rates = [1e-1,1e-2,1e-3,1e-4,1e-5,1e-6,1e-7,1e-8,1e-9,1e-10,1e-11,1e-12,1e-13]\n",
    "\n",
    "\n",
    "regularization_strengths = [2.5e10,2.5e8,2.5e6,2.5e4,2.5e2,2.5e0,2.5e-2]\n",
    "best_l = None\n",
    "best_r = None\n",
    "count = 0\n",
    "for l in regularization_strengths:\n",
    "    for r in regularization_strengths:\n",
    "        print(count)\n",
    "        count+=1\n",
    "        softmax = Softmax()\n",
    "        softmax.train(X_train, y_train, learning_rate=1e-7, reg=2.5e4,\n",
    "                              num_iters=1500, verbose=False)\n",
    "        y_val_pred = softmax.predict(X_val)\n",
    "        y_train_pred = softmax.predict(X_train)\n",
    "        ac_val=(np.mean(y_val == y_val_pred))\n",
    "        ac_train = (np.mean(y_train == y_train_pred))\n",
    "        results[(l,r)]=(ac_train,ac_val)\n",
    "        if best_val<ac_val:\n",
    "            best_val = ac_val\n",
    "            best_softmax=softmax\n",
    "            best_l = l\n",
    "            best_r = r\n",
    "\n",
    "\n",
    "\n",
    "################################################################################\n",
    "# TODO:                                                                        #\n",
    "# Use the validation set to set the learning rate and regularization strength. #\n",
    "# This should be identical to the validation that you did for the SVM; save    #\n",
    "# the best trained softmax classifer in best_softmax.                          #\n",
    "################################################################################\n",
    "pass\n",
    "################################################################################\n",
    "#                              END OF YOUR CODE                                #\n",
    "################################################################################\n",
    "    \n",
    "# Print out results.\n",
    "for lr, reg in sorted(results):\n",
    "    train_accuracy, val_accuracy = results[(lr, reg)]\n",
    "    print('lr %e reg %e train accuracy: %f val accuracy: %f' % (\n",
    "                lr, reg, train_accuracy, val_accuracy))\n",
    "    \n",
    "print('best validation accuracy achieved during cross-validation: %f' % best_val)"
   ]
  },
  {
   "cell_type": "code",
   "execution_count": 29,
   "metadata": {
    "collapsed": false
   },
   "outputs": [
    {
     "name": "stdout",
     "output_type": "stream",
     "text": [
      "softmax on raw pixels final test set accuracy: 0.351000\n"
     ]
    }
   ],
   "source": [
    "# evaluate on test set\n",
    "# Evaluate the best softmax on test set\n",
    "y_test_pred = best_softmax.predict(X_test)\n",
    "test_accuracy = np.mean(y_test == y_test_pred)\n",
    "print('softmax on raw pixels final test set accuracy: %f' % (test_accuracy, ))"
   ]
  },
  {
   "cell_type": "code",
   "execution_count": 30,
   "metadata": {
    "collapsed": false
   },
   "outputs": [
    {
     "data": {
      "image/png": "[encoded data removed]",
      "text/plain": [
       "<matplotlib.figure.Figure at 0x2bdf169470>"
      ]
     },
     "metadata": {},
     "output_type": "display_data"
    }
   ],
   "source": [
    "# Visualize the learned weights for each class\n",
    "w = best_softmax.W[:-1,:] # strip out the bias\n",
    "w = w.reshape(32, 32, 3, 10)\n",
    "\n",
    "w_min, w_max = np.min(w), np.max(w)\n",
    "\n",
    "classes = ['plane', 'car', 'bird', 'cat', 'deer', 'dog', 'frog', 'horse', 'ship', 'truck']\n",
    "for i in range(10):\n",
    "    plt.subplot(2, 5, i + 1)\n",
    "    \n",
    "    # Rescale the weights to be between 0 and 255\n",
    "    wimg = 255.0 * (w[:, :, :, i].squeeze() - w_min) / (w_max - w_min)\n",
    "    plt.imshow(wimg.astype('uint8'))\n",
    "    plt.axis('off')\n",
    "    plt.title(classes[i])"
   ]
  },
  {
   "cell_type": "code",
   "execution_count": null,
   "metadata": {
    "collapsed": true
   },
   "outputs": [],
   "source": []
  }
 ],
 "metadata": {
  "kernelspec": {
   "display_name": "Python 3",
   "language": "python",
   "name": "python3"
  },
  "language_info": {
   "codemirror_mode": {
    "name": "ipython",
    "version": 3
   },
   "file_extension": ".py",
   "mimetype": "text/x-python",
   "name": "python",
   "nbconvert_exporter": "python",
   "pygments_lexer": "ipython3",
   "version": "3.6.0"
  }
 },
 "nbformat": 4,
 "nbformat_minor": 0
}
