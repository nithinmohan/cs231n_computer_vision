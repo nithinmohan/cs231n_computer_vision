{
 "cells": [
  {
   "cell_type": "code",
   "execution_count": 5,
   "metadata": {
    "collapsed": false
   },
   "outputs": [
    {
     "data": {
      "text/plain": [
       "KeysView(environ({'ALIASES': 'C:\\\\Users\\\\Nithin Mohan\\\\Downloads\\\\Compressed\\\\cmder\\\\config\\\\user-aliases.cmd', 'ALLUSERSPROFILE': 'C:\\\\ProgramData', 'ANDROID_HOME': 'C:\\\\NVPACK\\\\android-sdk-windows', 'ANDROID_NDK_ROOT': 'C:\\\\NVPACK\\\\android-ndk-r9c', 'ANSICON': '120x1000 (120x30)', 'ANSICON_DEF': '7', 'ANT_HOME': 'C:\\\\NVPACK\\\\apache-ant-1.8.2', 'APPDATA': 'C:\\\\Users\\\\Nithin Mohan\\\\AppData\\\\Roaming', 'ARCHITECTURE': '64', 'BREAKPAD_DUMP_LOCATION': 'C:\\\\Users\\\\Public\\\\Documents\\\\Google\\\\Chrome', 'CHROME_CRASHPAD_SERVER_URL': 'https://client2.google.com/cr/reports', 'CMDER_ROOT': 'C:\\\\Users\\\\Nithin Mohan\\\\Downloads\\\\Compressed\\\\cmder', 'COMMONPROGRAMFILES': 'C:\\\\Program Files\\\\Common Files', 'COMMONPROGRAMFILES(X86)': 'C:\\\\Program Files (x86)\\\\Common Files', 'COMMONPROGRAMW6432': 'C:\\\\Program Files\\\\Common Files', 'COMPUTERNAME': 'NITHIN', 'COMSPEC': 'C:\\\\Windows\\\\system32\\\\cmd.exe', 'CONEMUANSI': 'ON', 'CONEMUANSILOG': '', 'CONEMUARGS': '/Icon \"C:\\\\Users\\\\Nithin Mohan\\\\Downloads\\\\Compressed\\\\cmder\\\\icons\\\\cmder.ico\" /Title Cmder', 'CONEMUARGS2': '', 'CONEMUBACKHWND': '0x004F063C', 'CONEMUBASEDIR': 'C:\\\\Users\\\\Nithin Mohan\\\\Downloads\\\\Compressed\\\\cmder\\\\vendor\\\\conemu-maximus5\\\\ConEmu', 'CONEMUBUILD': '161206', 'CONEMUCONFIG': '', 'CONEMUDIR': 'C:\\\\Users\\\\Nithin Mohan\\\\Downloads\\\\Compressed\\\\cmder\\\\vendor\\\\conemu-maximus5', 'CONEMUDRAWHWND': '0x003B0782', 'CONEMUDRIVE': 'C:', 'CONEMUHOOKS': 'Enabled', 'CONEMUHWND': '0x000A047C', 'CONEMUPALETTE': 'Monokai', 'CONEMUPID': '15904', 'CONEMUSERVERPID': '3980', 'CONEMUTASK': '{cmd::Cmder}', 'CONEMUWORKDIR': 'C:\\\\Users\\\\Nithin Mohan', 'CONEMUWORKDRIVE': 'C:', 'FP_NO_HOST_CHECK': 'NO', 'GIT_INSTALL_ROOT': 'C:\\\\Users\\\\Nithin Mohan\\\\AppData\\\\Local\\\\Programs\\\\Git', 'GOROOT': 'C:\\\\Go\\\\', 'GPU_MAX_ALLOC_PERCENT': '70', 'HOME': 'C:\\\\Users\\\\Nithin Mohan', 'HOMEDRIVE': 'C:', 'HOMEPATH': '\\\\Users\\\\Nithin Mohan', 'JAVA_HOME': 'C:\\\\NVPACK\\\\jdk1.6.0_45', 'LOCALAPPDATA': 'C:\\\\Users\\\\Nithin Mohan\\\\AppData\\\\Local', 'LOGONSERVER': '\\\\\\\\NITHIN', 'NDKROOT': 'C:\\\\NVPACK\\\\android-ndk-r9c', 'NDK_ROOT': 'C:\\\\NVPACK\\\\android-ndk-r9c', 'NUMBER_OF_PROCESSORS': '8', 'OS': 'Windows_NT', 'PATH': 'C:\\\\Anaconda\\\\Library\\\\bin;C:\\\\Anaconda\\\\Library\\\\bin;C:\\\\Anaconda\\\\Scripts;C:\\\\Anaconda\\\\Library\\\\bin;C:\\\\Users\\\\Nithin Mohan\\\\Downloads\\\\Compressed\\\\cmder\\\\bin;C:\\\\Users\\\\Nithin Mohan\\\\Downloads\\\\Compressed\\\\cmder\\\\vendor\\\\conemu-maximus5\\\\ConEmu\\\\Scripts;C:\\\\Users\\\\Nithin Mohan\\\\Downloads\\\\Compressed\\\\cmder\\\\vendor\\\\conemu-maximus5;C:\\\\Users\\\\Nithin Mohan\\\\Downloads\\\\Compressed\\\\cmder\\\\vendor\\\\conemu-maximus5\\\\ConEmu;C:\\\\ProgramData\\\\Oracle\\\\Java\\\\javapath;C:\\\\Windows\\\\system32;C:\\\\Windows;C:\\\\Windows\\\\System32\\\\Wbem;C:\\\\Windows\\\\System32\\\\WindowsPowerShell\\\\v1.0\\\\;C:\\\\Program Files (x86)\\\\Intel\\\\OpenCL SDK\\\\2.0\\\\bin\\\\x86;C:\\\\Program Files (x86)\\\\Intel\\\\OpenCL SDK\\\\2.0\\\\bin\\\\x64;C:\\\\NVPACK\\\\android-sdk-windows\\\\tools;C:\\\\Program Files (x86)\\\\NVIDIA Corporation\\\\PhysX\\\\Common;C:\\\\Program Files (x86)\\\\Skype\\\\Phone\\\\;C:\\\\Go\\\\bin;C:\\\\Anaconda;C:\\\\Anaconda\\\\Scripts;C:\\\\Anaconda\\\\Library\\\\bin;C:\\\\Users\\\\Nithin Mohan\\\\AppData\\\\Local\\\\Programs\\\\Python\\\\Python36-32\\\\Scripts\\\\;C:\\\\Users\\\\Nithin Mohan\\\\AppData\\\\Local\\\\Programs\\\\Python\\\\Python36-32\\\\;C:\\\\NVPACK\\\\android-sdk-windows\\\\platform-tools;C:\\\\NVPACK\\\\android-sdk-windows\\\\build-tools;C:\\\\NVPACK\\\\android-sdk-windows\\\\tools;C:\\\\NVPACK\\\\jdk1.6.0_45\\\\bin;C:\\\\NVPACK\\\\apache-ant-1.8.2\\\\bin;C:\\\\Users\\\\Nithin Mohan\\\\AppData\\\\Local\\\\Programs\\\\Git\\\\cmd;C:\\\\Python34;C:\\\\Python34\\\\Scripts;;C:\\\\Users\\\\Nithin Mohan\\\\AppData\\\\Local\\\\Programs\\\\Git\\\\usr\\\\bin;C:\\\\Users\\\\Nithin Mohan\\\\AppData\\\\Local\\\\Programs\\\\Git\\\\usr\\\\share\\\\vim\\\\vim74;C:\\\\Users\\\\Nithin Mohan\\\\Downloads\\\\Compressed\\\\cmder\\\\', 'PATHEXT': '.COM;.EXE;.BAT;.CMD;.VBS;.VBE;.JS;.JSE;.WSF;.WSH;.MSC', 'PLINK_PROTOCOL': 'ssh', 'PROCESSOR_ARCHITECTURE': 'AMD64', 'PROCESSOR_IDENTIFIER': 'Intel64 Family 6 Model 42 Stepping 7, GenuineIntel', 'PROCESSOR_LEVEL': '6', 'PROCESSOR_REVISION': '2a07', 'PROGRAMDATA': 'C:\\\\ProgramData', 'PROGRAMFILES': 'C:\\\\Program Files', 'PROGRAMFILES(X86)': 'C:\\\\Program Files (x86)', 'PROGRAMW6432': 'C:\\\\Program Files', 'PROMPT': 'C\\x08L\\x08I\\x08N\\x08K\\x08 \\x08$P$G', 'PSMODULEPATH': 'C:\\\\Windows\\\\system32\\\\WindowsPowerShell\\\\v1.0\\\\Modules\\\\', 'PUBLIC': 'C:\\\\Users\\\\Public', 'SESSIONNAME': 'Console', 'SVN_SSH': 'C:\\\\\\\\Users\\\\\\\\Nithin Mohan\\\\\\\\AppData\\\\\\\\Local\\\\\\\\Programs\\\\\\\\Git\\\\\\\\bin\\\\\\\\ssh.exe', 'SYSTEMDRIVE': 'C:', 'SYSTEMROOT': 'C:\\\\Windows', 'TEMP': 'C:\\\\Users\\\\NITHIN~1\\\\AppData\\\\Local\\\\Temp', 'TERM': 'xterm-color', 'TMP': 'C:\\\\Users\\\\NITHIN~1\\\\AppData\\\\Local\\\\Temp', 'USER-ALIASES': 'C:\\\\Users\\\\Nithin Mohan\\\\Downloads\\\\Compressed\\\\cmder\\\\config\\\\user-aliases.cmd', 'USERDOMAIN': 'Nithin', 'USERDOMAIN_ROAMINGPROFILE': 'Nithin', 'USERNAME': 'Nithin Mohan', 'USERPROFILE': 'C:\\\\Users\\\\Nithin Mohan', 'VERBOSE-OUTPUT': '0 ', 'VS100COMNTOOLS': 'C:\\\\Program Files (x86)\\\\Microsoft Visual Studio 10.0\\\\Common7\\\\Tools\\\\', 'WINDIR': 'C:\\\\Windows', 'JPY_INTERRUPT_EVENT': '1896', 'IPY_INTERRUPT_EVENT': '1896', 'JPY_PARENT_PID': '1476', 'CLICOLOR': '1', 'PAGER': 'cat', 'GIT_PAGER': 'cat', 'MPLBACKEND': 'module://ipykernel.pylab.backend_inline'}))"
      ]
     },
     "execution_count": 5,
     "metadata": {},
     "output_type": "execute_result"
    }
   ],
   "source": [
    "import os\n",
    "# on Windows, we need the original PATH without Anaconda's compiler in it:\n",
    "PATH = os.environ.get('PATH')\n",
    "PATH\n",
    "from distutils.spawn import spawn, find_executable\n",
    "os.path.dirname(find_executable(\"cl.exe\", r'C:\\Program Files (x86)\\Microsoft Visual Studio 14.0\\VC\\bin'))\n",
    "find_executable(\"cl.exe\", PATH)\n",
    "PATH"
   ]
  },
  {
   "cell_type": "code",
   "execution_count": 7,
   "metadata": {
    "collapsed": false
   },
   "outputs": [
    {
     "ename": "AttributeError",
     "evalue": "module 'ntpath' has no attribute 'listdir'",
     "output_type": "error",
     "traceback": [
      "\u001b[0;31m---------------------------------------------------------------------------\u001b[0m",
      "\u001b[0;31mAttributeError\u001b[0m                            Traceback (most recent call last)",
      "\u001b[0;32m<ipython-input-7-be96007af499>\u001b[0m in \u001b[0;36m<module>\u001b[0;34m()\u001b[0m\n\u001b[0;32m----> 1\u001b[0;31m \u001b[0mos\u001b[0m\u001b[1;33m.\u001b[0m\u001b[0mpath\u001b[0m\u001b[1;33m.\u001b[0m\u001b[0mlistdir\u001b[0m\u001b[1;33m\u001b[0m\u001b[0m\n\u001b[0m",
      "\u001b[0;31mAttributeError\u001b[0m: module 'ntpath' has no attribute 'listdir'"
     ]
    }
   ],
   "source": [
    "os.path.listdir"
   ]
  },
  {
   "cell_type": "code",
   "execution_count": null,
   "metadata": {
    "collapsed": true
   },
   "outputs": [],
   "source": []
  }
 ],
 "metadata": {
  "kernelspec": {
   "display_name": "Python 3",
   "language": "python",
   "name": "python3"
  },
  "language_info": {
   "codemirror_mode": {
    "name": "ipython",
    "version": 3
   },
   "file_extension": ".py",
   "mimetype": "text/x-python",
   "name": "python",
   "nbconvert_exporter": "python",
   "pygments_lexer": "ipython3",
   "version": "3.6.0"
  }
 },
 "nbformat": 4,
 "nbformat_minor": 2
}
